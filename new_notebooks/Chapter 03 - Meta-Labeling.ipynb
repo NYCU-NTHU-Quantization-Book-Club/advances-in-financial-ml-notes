{
 "cells": [
  {
   "cell_type": "code",
   "execution_count": 85,
   "metadata": {},
   "outputs": [],
   "source": [
    "import numpy as np\n",
    "import pandas as pd\n",
    "import matplotlib\n",
    "import matplotlib.pyplot as plt\n",
    "\n",
    "from collections import defaultdict\n",
    "from functools import reduce\n",
    "from path import Path\n",
    "from pprint import pprint\n",
    "\n",
    "%matplotlib inline\n",
    "plt.style.use('ggplot')\n",
    "plt.rcParams['figure.figsize'] = 16,6"
   ]
  },
  {
   "cell_type": "markdown",
   "metadata": {},
   "source": [
    "Note: During one of his talks Marcos' mentioned that this is one of his favorite applications of ML in Finance"
   ]
  },
  {
   "cell_type": "markdown",
   "metadata": {},
   "source": [
    "# 3.1a\n",
    "\n",
    "Form dollar bars for E-mini S&P 500 futures:\n",
    "\n",
    "Apply a symmetric CUSUM filter where the threshold is the standard deviation of daily returns."
   ]
  },
  {
   "cell_type": "code",
   "execution_count": 86,
   "metadata": {},
   "outputs": [
    {
     "name": "stderr",
     "output_type": "stream",
     "text": [
      "[*********************100%***********************]  1 of 1 completed\n"
     ]
    }
   ],
   "source": [
    "from sampling import dollar_bars\n",
    "from filters import cusum\n",
    "from multiprocess import mpPandasObj\n",
    "from load_data import load_contracts\n",
    "import yfinance as yf\n",
    "\n",
    "aapl_stock = yf.download(\"AAPL\",start='2010-01-01') #load_contracts('@ES')"
   ]
  },
  {
   "cell_type": "code",
   "execution_count": 87,
   "metadata": {},
   "outputs": [
    {
     "data": {
      "text/html": [
       "<div>\n",
       "<style scoped>\n",
       "    .dataframe tbody tr th:only-of-type {\n",
       "        vertical-align: middle;\n",
       "    }\n",
       "\n",
       "    .dataframe tbody tr th {\n",
       "        vertical-align: top;\n",
       "    }\n",
       "\n",
       "    .dataframe thead tr th {\n",
       "        text-align: left;\n",
       "    }\n",
       "</style>\n",
       "<table border=\"1\" class=\"dataframe\">\n",
       "  <thead>\n",
       "    <tr>\n",
       "      <th>Price</th>\n",
       "      <th>Close</th>\n",
       "      <th>High</th>\n",
       "      <th>Low</th>\n",
       "      <th>Open</th>\n",
       "      <th>Volume</th>\n",
       "    </tr>\n",
       "    <tr>\n",
       "      <th>Ticker</th>\n",
       "      <th>AAPL</th>\n",
       "      <th>AAPL</th>\n",
       "      <th>AAPL</th>\n",
       "      <th>AAPL</th>\n",
       "      <th>AAPL</th>\n",
       "    </tr>\n",
       "  </thead>\n",
       "  <tbody>\n",
       "    <tr>\n",
       "      <th>count</th>\n",
       "      <td>3774.000000</td>\n",
       "      <td>3774.000000</td>\n",
       "      <td>3774.000000</td>\n",
       "      <td>3774.000000</td>\n",
       "      <td>3.774000e+03</td>\n",
       "    </tr>\n",
       "    <tr>\n",
       "      <th>mean</th>\n",
       "      <td>67.595929</td>\n",
       "      <td>68.251186</td>\n",
       "      <td>66.870690</td>\n",
       "      <td>67.539687</td>\n",
       "      <td>2.299200e+08</td>\n",
       "    </tr>\n",
       "    <tr>\n",
       "      <th>std</th>\n",
       "      <td>65.674801</td>\n",
       "      <td>66.285181</td>\n",
       "      <td>64.975460</td>\n",
       "      <td>65.595878</td>\n",
       "      <td>2.180726e+08</td>\n",
       "    </tr>\n",
       "    <tr>\n",
       "      <th>min</th>\n",
       "      <td>5.785830</td>\n",
       "      <td>5.904831</td>\n",
       "      <td>5.731601</td>\n",
       "      <td>5.795472</td>\n",
       "      <td>2.323470e+07</td>\n",
       "    </tr>\n",
       "    <tr>\n",
       "      <th>25%</th>\n",
       "      <td>17.480883</td>\n",
       "      <td>17.664842</td>\n",
       "      <td>17.335043</td>\n",
       "      <td>17.484472</td>\n",
       "      <td>8.492275e+07</td>\n",
       "    </tr>\n",
       "    <tr>\n",
       "      <th>50%</th>\n",
       "      <td>35.362555</td>\n",
       "      <td>35.768027</td>\n",
       "      <td>35.001778</td>\n",
       "      <td>35.393598</td>\n",
       "      <td>1.403920e+08</td>\n",
       "    </tr>\n",
       "    <tr>\n",
       "      <th>75%</th>\n",
       "      <td>127.049152</td>\n",
       "      <td>128.139892</td>\n",
       "      <td>124.965067</td>\n",
       "      <td>126.478002</td>\n",
       "      <td>3.081386e+08</td>\n",
       "    </tr>\n",
       "    <tr>\n",
       "      <th>max</th>\n",
       "      <td>259.019989</td>\n",
       "      <td>260.100006</td>\n",
       "      <td>257.630005</td>\n",
       "      <td>258.190002</td>\n",
       "      <td>1.880998e+09</td>\n",
       "    </tr>\n",
       "  </tbody>\n",
       "</table>\n",
       "</div>"
      ],
      "text/plain": [
       "Price         Close         High          Low         Open        Volume\n",
       "Ticker         AAPL         AAPL         AAPL         AAPL          AAPL\n",
       "count   3774.000000  3774.000000  3774.000000  3774.000000  3.774000e+03\n",
       "mean      67.595929    68.251186    66.870690    67.539687  2.299200e+08\n",
       "std       65.674801    66.285181    64.975460    65.595878  2.180726e+08\n",
       "min        5.785830     5.904831     5.731601     5.795472  2.323470e+07\n",
       "25%       17.480883    17.664842    17.335043    17.484472  8.492275e+07\n",
       "50%       35.362555    35.768027    35.001778    35.393598  1.403920e+08\n",
       "75%      127.049152   128.139892   124.965067   126.478002  3.081386e+08\n",
       "max      259.019989   260.100006   257.630005   258.190002  1.880998e+09"
      ]
     },
     "execution_count": 87,
     "metadata": {},
     "output_type": "execute_result"
    }
   ],
   "source": [
    "aapl_stock.describe()"
   ]
  },
  {
   "cell_type": "code",
   "execution_count": 120,
   "metadata": {
    "scrolled": false
   },
   "outputs": [],
   "source": [
    "def getDailyVol(close, span0=100):\n",
    "    # daily vol, reindexed to cloes\n",
    "    df0 = close.index.searchsorted(close.index - pd.Timedelta(days=1))\n",
    "    df0 = df0[df0>0]\n",
    "    df0 = pd.Series(close.index[df0 - 1], index=close.index[close.shape[0] - df0.shape[0]:])\n",
    "    df0 = close.loc[df0.index] / close.loc[df0.values].values - 1 # daily returns\n",
    "    df0 = df0.ewm(span=span0).std()\n",
    "    return df0\n",
    "\n",
    "aapl_stock['Instrument'] = 'AAPL' # type: ignore\n",
    "aapl_dbars = dollar_bars(aapl_stock, 10000000000)\n",
    "\n",
    "daily_vol = getDailyVol(aapl_dbars['Close'])"
   ]
  },
  {
   "cell_type": "code",
   "execution_count": 117,
   "metadata": {},
   "outputs": [
    {
     "data": {
      "text/html": [
       "<div>\n",
       "<style scoped>\n",
       "    .dataframe tbody tr th:only-of-type {\n",
       "        vertical-align: middle;\n",
       "    }\n",
       "\n",
       "    .dataframe tbody tr th {\n",
       "        vertical-align: top;\n",
       "    }\n",
       "\n",
       "    .dataframe thead tr th {\n",
       "        text-align: left;\n",
       "    }\n",
       "\n",
       "    .dataframe thead tr:last-of-type th {\n",
       "        text-align: right;\n",
       "    }\n",
       "</style>\n",
       "<table border=\"1\" class=\"dataframe\">\n",
       "  <thead>\n",
       "    <tr>\n",
       "      <th>Price</th>\n",
       "      <th>Close</th>\n",
       "      <th>High</th>\n",
       "      <th>Low</th>\n",
       "      <th>Open</th>\n",
       "      <th>Volume</th>\n",
       "      <th>Instrument</th>\n",
       "    </tr>\n",
       "    <tr>\n",
       "      <th>Ticker</th>\n",
       "      <th>AAPL</th>\n",
       "      <th>AAPL</th>\n",
       "      <th>AAPL</th>\n",
       "      <th>AAPL</th>\n",
       "      <th>AAPL</th>\n",
       "      <th></th>\n",
       "    </tr>\n",
       "    <tr>\n",
       "      <th>Date</th>\n",
       "      <th></th>\n",
       "      <th></th>\n",
       "      <th></th>\n",
       "      <th></th>\n",
       "      <th></th>\n",
       "      <th></th>\n",
       "    </tr>\n",
       "  </thead>\n",
       "  <tbody>\n",
       "    <tr>\n",
       "      <th>2010-01-04</th>\n",
       "      <td>6.447412</td>\n",
       "      <td>6.462174</td>\n",
       "      <td>6.398306</td>\n",
       "      <td>6.429939</td>\n",
       "      <td>493729600</td>\n",
       "      <td>AAPL</td>\n",
       "    </tr>\n",
       "    <tr>\n",
       "      <th>2010-01-05</th>\n",
       "      <td>6.458557</td>\n",
       "      <td>6.495010</td>\n",
       "      <td>6.424514</td>\n",
       "      <td>6.465185</td>\n",
       "      <td>601904800</td>\n",
       "      <td>AAPL</td>\n",
       "    </tr>\n",
       "    <tr>\n",
       "      <th>2010-01-06</th>\n",
       "      <td>6.355829</td>\n",
       "      <td>6.484169</td>\n",
       "      <td>6.349201</td>\n",
       "      <td>6.458561</td>\n",
       "      <td>552160000</td>\n",
       "      <td>AAPL</td>\n",
       "    </tr>\n",
       "    <tr>\n",
       "      <th>2010-01-07</th>\n",
       "      <td>6.344077</td>\n",
       "      <td>6.386858</td>\n",
       "      <td>6.297983</td>\n",
       "      <td>6.379326</td>\n",
       "      <td>477131200</td>\n",
       "      <td>AAPL</td>\n",
       "    </tr>\n",
       "    <tr>\n",
       "      <th>2010-01-08</th>\n",
       "      <td>6.386255</td>\n",
       "      <td>6.386858</td>\n",
       "      <td>6.298286</td>\n",
       "      <td>6.335642</td>\n",
       "      <td>447610800</td>\n",
       "      <td>AAPL</td>\n",
       "    </tr>\n",
       "    <tr>\n",
       "      <th>...</th>\n",
       "      <td>...</td>\n",
       "      <td>...</td>\n",
       "      <td>...</td>\n",
       "      <td>...</td>\n",
       "      <td>...</td>\n",
       "      <td>...</td>\n",
       "    </tr>\n",
       "    <tr>\n",
       "      <th>2024-12-24</th>\n",
       "      <td>258.200012</td>\n",
       "      <td>258.209991</td>\n",
       "      <td>255.289993</td>\n",
       "      <td>255.490005</td>\n",
       "      <td>23234700</td>\n",
       "      <td>AAPL</td>\n",
       "    </tr>\n",
       "    <tr>\n",
       "      <th>2024-12-26</th>\n",
       "      <td>259.019989</td>\n",
       "      <td>260.100006</td>\n",
       "      <td>257.630005</td>\n",
       "      <td>258.190002</td>\n",
       "      <td>27237100</td>\n",
       "      <td>AAPL</td>\n",
       "    </tr>\n",
       "    <tr>\n",
       "      <th>2024-12-27</th>\n",
       "      <td>255.589996</td>\n",
       "      <td>258.700012</td>\n",
       "      <td>253.059998</td>\n",
       "      <td>257.829987</td>\n",
       "      <td>42355300</td>\n",
       "      <td>AAPL</td>\n",
       "    </tr>\n",
       "    <tr>\n",
       "      <th>2024-12-30</th>\n",
       "      <td>252.199997</td>\n",
       "      <td>253.500000</td>\n",
       "      <td>250.750000</td>\n",
       "      <td>252.229996</td>\n",
       "      <td>35557500</td>\n",
       "      <td>AAPL</td>\n",
       "    </tr>\n",
       "    <tr>\n",
       "      <th>2024-12-31</th>\n",
       "      <td>250.419998</td>\n",
       "      <td>253.279999</td>\n",
       "      <td>249.429993</td>\n",
       "      <td>252.440002</td>\n",
       "      <td>39468700</td>\n",
       "      <td>AAPL</td>\n",
       "    </tr>\n",
       "  </tbody>\n",
       "</table>\n",
       "<p>3774 rows × 6 columns</p>\n",
       "</div>"
      ],
      "text/plain": [
       "Price            Close        High         Low        Open     Volume  \\\n",
       "Ticker            AAPL        AAPL        AAPL        AAPL       AAPL   \n",
       "Date                                                                    \n",
       "2010-01-04    6.447412    6.462174    6.398306    6.429939  493729600   \n",
       "2010-01-05    6.458557    6.495010    6.424514    6.465185  601904800   \n",
       "2010-01-06    6.355829    6.484169    6.349201    6.458561  552160000   \n",
       "2010-01-07    6.344077    6.386858    6.297983    6.379326  477131200   \n",
       "2010-01-08    6.386255    6.386858    6.298286    6.335642  447610800   \n",
       "...                ...         ...         ...         ...        ...   \n",
       "2024-12-24  258.200012  258.209991  255.289993  255.490005   23234700   \n",
       "2024-12-26  259.019989  260.100006  257.630005  258.190002   27237100   \n",
       "2024-12-27  255.589996  258.700012  253.059998  257.829987   42355300   \n",
       "2024-12-30  252.199997  253.500000  250.750000  252.229996   35557500   \n",
       "2024-12-31  250.419998  253.279999  249.429993  252.440002   39468700   \n",
       "\n",
       "Price      Instrument  \n",
       "Ticker                 \n",
       "Date                   \n",
       "2010-01-04       AAPL  \n",
       "2010-01-05       AAPL  \n",
       "2010-01-06       AAPL  \n",
       "2010-01-07       AAPL  \n",
       "2010-01-08       AAPL  \n",
       "...               ...  \n",
       "2024-12-24       AAPL  \n",
       "2024-12-26       AAPL  \n",
       "2024-12-27       AAPL  \n",
       "2024-12-30       AAPL  \n",
       "2024-12-31       AAPL  \n",
       "\n",
       "[3774 rows x 6 columns]"
      ]
     },
     "execution_count": 117,
     "metadata": {},
     "output_type": "execute_result"
    }
   ],
   "source": [
    "aapl_stock"
   ]
  },
  {
   "cell_type": "code",
   "execution_count": 118,
   "metadata": {},
   "outputs": [
    {
     "data": {
      "text/html": [
       "<div>\n",
       "<style scoped>\n",
       "    .dataframe tbody tr th:only-of-type {\n",
       "        vertical-align: middle;\n",
       "    }\n",
       "\n",
       "    .dataframe tbody tr th {\n",
       "        vertical-align: top;\n",
       "    }\n",
       "\n",
       "    .dataframe thead th {\n",
       "        text-align: right;\n",
       "    }\n",
       "</style>\n",
       "<table border=\"1\" class=\"dataframe\">\n",
       "  <thead>\n",
       "    <tr style=\"text-align: right;\">\n",
       "      <th></th>\n",
       "      <th>Volume</th>\n",
       "      <th>Dollar Volume</th>\n",
       "      <th>Open</th>\n",
       "      <th>Close</th>\n",
       "      <th>Instrument</th>\n",
       "      <th>Time</th>\n",
       "      <th>Num Ticks</th>\n",
       "    </tr>\n",
       "  </thead>\n",
       "  <tbody>\n",
       "    <tr>\n",
       "      <th>2010-01-04</th>\n",
       "      <td>493729600</td>\n",
       "      <td>3.183278e+09</td>\n",
       "      <td>6.429939</td>\n",
       "      <td>6.447412</td>\n",
       "      <td>AAPL</td>\n",
       "      <td>2010-01-04</td>\n",
       "      <td>1</td>\n",
       "    </tr>\n",
       "    <tr>\n",
       "      <th>2010-01-05</th>\n",
       "      <td>1631196000</td>\n",
       "      <td>1.042383e+10</td>\n",
       "      <td>6.465185</td>\n",
       "      <td>6.344077</td>\n",
       "      <td>AAPL</td>\n",
       "      <td>2010-01-05</td>\n",
       "      <td>3</td>\n",
       "    </tr>\n",
       "    <tr>\n",
       "      <th>2010-01-08</th>\n",
       "      <td>1504300000</td>\n",
       "      <td>9.504511e+09</td>\n",
       "      <td>6.335642</td>\n",
       "      <td>6.257915</td>\n",
       "      <td>AAPL</td>\n",
       "      <td>2010-01-08</td>\n",
       "      <td>3</td>\n",
       "    </tr>\n",
       "    <tr>\n",
       "      <th>2010-01-13</th>\n",
       "      <td>1632853600</td>\n",
       "      <td>1.026201e+10</td>\n",
       "      <td>6.262434</td>\n",
       "      <td>6.203988</td>\n",
       "      <td>AAPL</td>\n",
       "      <td>2010-01-13</td>\n",
       "      <td>3</td>\n",
       "    </tr>\n",
       "    <tr>\n",
       "      <th>2010-01-19</th>\n",
       "      <td>1342160400</td>\n",
       "      <td>8.634064e+09</td>\n",
       "      <td>6.276290</td>\n",
       "      <td>6.378723</td>\n",
       "      <td>AAPL</td>\n",
       "      <td>2010-01-19</td>\n",
       "      <td>2</td>\n",
       "    </tr>\n",
       "    <tr>\n",
       "      <th>...</th>\n",
       "      <td>...</td>\n",
       "      <td>...</td>\n",
       "      <td>...</td>\n",
       "      <td>...</td>\n",
       "      <td>...</td>\n",
       "      <td>...</td>\n",
       "      <td>...</td>\n",
       "    </tr>\n",
       "    <tr>\n",
       "      <th>2024-12-23</th>\n",
       "      <td>64093500</td>\n",
       "      <td>1.642923e+10</td>\n",
       "      <td>254.770004</td>\n",
       "      <td>258.200012</td>\n",
       "      <td>AAPL</td>\n",
       "      <td>2024-12-23</td>\n",
       "      <td>2</td>\n",
       "    </tr>\n",
       "    <tr>\n",
       "      <th>2024-12-26</th>\n",
       "      <td>27237100</td>\n",
       "      <td>7.054953e+09</td>\n",
       "      <td>258.190002</td>\n",
       "      <td>259.019989</td>\n",
       "      <td>AAPL</td>\n",
       "      <td>2024-12-26</td>\n",
       "      <td>1</td>\n",
       "    </tr>\n",
       "    <tr>\n",
       "      <th>2024-12-27</th>\n",
       "      <td>42355300</td>\n",
       "      <td>1.082559e+10</td>\n",
       "      <td>257.829987</td>\n",
       "      <td>255.589996</td>\n",
       "      <td>AAPL</td>\n",
       "      <td>2024-12-27</td>\n",
       "      <td>1</td>\n",
       "    </tr>\n",
       "    <tr>\n",
       "      <th>2024-12-30</th>\n",
       "      <td>35557500</td>\n",
       "      <td>8.967601e+09</td>\n",
       "      <td>252.229996</td>\n",
       "      <td>252.199997</td>\n",
       "      <td>AAPL</td>\n",
       "      <td>2024-12-30</td>\n",
       "      <td>1</td>\n",
       "    </tr>\n",
       "    <tr>\n",
       "      <th>2024-12-31</th>\n",
       "      <td>39468700</td>\n",
       "      <td>9.883752e+09</td>\n",
       "      <td>252.440002</td>\n",
       "      <td>250.419998</td>\n",
       "      <td>AAPL</td>\n",
       "      <td>2024-12-31</td>\n",
       "      <td>1</td>\n",
       "    </tr>\n",
       "  </tbody>\n",
       "</table>\n",
       "<p>2511 rows × 7 columns</p>\n",
       "</div>"
      ],
      "text/plain": [
       "                Volume  Dollar Volume        Open       Close Instrument  \\\n",
       "2010-01-04   493729600   3.183278e+09    6.429939    6.447412       AAPL   \n",
       "2010-01-05  1631196000   1.042383e+10    6.465185    6.344077       AAPL   \n",
       "2010-01-08  1504300000   9.504511e+09    6.335642    6.257915       AAPL   \n",
       "2010-01-13  1632853600   1.026201e+10    6.262434    6.203988       AAPL   \n",
       "2010-01-19  1342160400   8.634064e+09    6.276290    6.378723       AAPL   \n",
       "...                ...            ...         ...         ...        ...   \n",
       "2024-12-23    64093500   1.642923e+10  254.770004  258.200012       AAPL   \n",
       "2024-12-26    27237100   7.054953e+09  258.190002  259.019989       AAPL   \n",
       "2024-12-27    42355300   1.082559e+10  257.829987  255.589996       AAPL   \n",
       "2024-12-30    35557500   8.967601e+09  252.229996  252.199997       AAPL   \n",
       "2024-12-31    39468700   9.883752e+09  252.440002  250.419998       AAPL   \n",
       "\n",
       "                 Time  Num Ticks  \n",
       "2010-01-04 2010-01-04          1  \n",
       "2010-01-05 2010-01-05          3  \n",
       "2010-01-08 2010-01-08          3  \n",
       "2010-01-13 2010-01-13          3  \n",
       "2010-01-19 2010-01-19          2  \n",
       "...               ...        ...  \n",
       "2024-12-23 2024-12-23          2  \n",
       "2024-12-26 2024-12-26          1  \n",
       "2024-12-27 2024-12-27          1  \n",
       "2024-12-30 2024-12-30          1  \n",
       "2024-12-31 2024-12-31          1  \n",
       "\n",
       "[2511 rows x 7 columns]"
      ]
     },
     "execution_count": 118,
     "metadata": {},
     "output_type": "execute_result"
    }
   ],
   "source": [
    "aapl_dbars"
   ]
  },
  {
   "cell_type": "code",
   "execution_count": 89,
   "metadata": {},
   "outputs": [
    {
     "data": {
      "text/plain": [
       "<Axes: xlabel='Date'>"
      ]
     },
     "execution_count": 89,
     "metadata": {},
     "output_type": "execute_result"
    },
    {
     "data": {
      "image/png": "[encoded data removed]",
      "text/plain": [
       "<Figure size 1600x600 with 1 Axes>"
      ]
     },
     "metadata": {},
     "output_type": "display_data"
    }
   ],
   "source": [
    "aapl_stock.Close.plot()"
   ]
  },
  {
   "cell_type": "code",
   "execution_count": 90,
   "metadata": {},
   "outputs": [
    {
     "data": {
      "text/plain": [
       "<Axes: >"
      ]
     },
     "execution_count": 90,
     "metadata": {},
     "output_type": "execute_result"
    },
    {
     "data": {
      "image/png": "[encoded data removed]",
      "text/plain": [
       "<Figure size 1600x600 with 1 Axes>"
      ]
     },
     "metadata": {},
     "output_type": "display_data"
    }
   ],
   "source": [
    "daily_vol.plot()"
   ]
  },
  {
   "cell_type": "code",
   "execution_count": 91,
   "metadata": {},
   "outputs": [
    {
     "data": {
      "text/plain": [
       "2010-01-06         NaN\n",
       "2010-01-07    0.002489\n",
       "2010-01-08    0.012178\n",
       "2010-01-11    0.009893\n",
       "2010-01-12    0.009926\n",
       "                ...   \n",
       "2024-12-24    0.016603\n",
       "2024-12-26    0.016439\n",
       "2024-12-27    0.016398\n",
       "2024-12-30    0.016413\n",
       "2024-12-31    0.016588\n",
       "Name: Close, Length: 3772, dtype: float64"
      ]
     },
     "execution_count": 91,
     "metadata": {},
     "output_type": "execute_result"
    }
   ],
   "source": [
    "daily_vol"
   ]
  },
  {
   "cell_type": "code",
   "execution_count": 92,
   "metadata": {},
   "outputs": [],
   "source": [
    "daily_vol_mean = daily_vol.mean()\n",
    "sampled_aapl_dbars = cusum(aapl_dbars['Close'], daily_vol_mean)"
   ]
  },
  {
   "cell_type": "code",
   "execution_count": 93,
   "metadata": {},
   "outputs": [
    {
     "data": {
      "text/plain": [
       "np.float64(0.0223650633225116)"
      ]
     },
     "execution_count": 93,
     "metadata": {},
     "output_type": "execute_result"
    }
   ],
   "source": [
    "daily_vol_mean"
   ]
  },
  {
   "cell_type": "code",
   "execution_count": 94,
   "metadata": {},
   "outputs": [
    {
     "data": {
      "text/plain": [
       "2010-01-04         NaN\n",
       "2010-01-05    0.011145\n",
       "2010-01-06   -0.102728\n",
       "2010-01-07   -0.011752\n",
       "2010-01-08    0.042178\n",
       "                ...   \n",
       "2024-12-24    2.930008\n",
       "2024-12-26    0.819977\n",
       "2024-12-27   -3.429993\n",
       "2024-12-30   -3.389999\n",
       "2024-12-31   -1.779999\n",
       "Name: Close, Length: 3774, dtype: float64"
      ]
     },
     "execution_count": 94,
     "metadata": {},
     "output_type": "execute_result"
    }
   ],
   "source": [
    "aapl_dbars['Close'].diff()"
   ]
  },
  {
   "cell_type": "code",
   "execution_count": 95,
   "metadata": {},
   "outputs": [
    {
     "data": {
      "text/plain": [
       "2010-01-04   2010-01-04\n",
       "2010-01-05   2010-01-05\n",
       "2010-01-06   2010-01-06\n",
       "2010-01-07   2010-01-07\n",
       "2010-01-08   2010-01-08\n",
       "                ...    \n",
       "2024-12-24   2024-12-24\n",
       "2024-12-26   2024-12-26\n",
       "2024-12-27   2024-12-27\n",
       "2024-12-30   2024-12-30\n",
       "2024-12-31   2024-12-31\n",
       "Name: Time, Length: 3774, dtype: datetime64[ns]"
      ]
     },
     "execution_count": 95,
     "metadata": {},
     "output_type": "execute_result"
    }
   ],
   "source": [
    "aapl_dbars.Time"
   ]
  },
  {
   "cell_type": "code",
   "execution_count": 96,
   "metadata": {},
   "outputs": [
    {
     "data": {
      "text/plain": [
       "DatetimeIndex(['2010-01-06', '2010-01-11', '2010-01-12', '2010-01-14',\n",
       "               '2010-01-15', '2010-01-20', '2010-01-21', '2010-01-22',\n",
       "               '2010-01-28', '2010-01-29',\n",
       "               ...\n",
       "               '2024-11-11', '2024-11-15', '2024-11-21', '2024-11-27',\n",
       "               '2024-12-06', '2024-12-11', '2024-12-18', '2024-12-27',\n",
       "               '2024-12-30', '2024-12-31'],\n",
       "              dtype='datetime64[ns]', length=1670, freq=None)"
      ]
     },
     "execution_count": 96,
     "metadata": {},
     "output_type": "execute_result"
    }
   ],
   "source": [
    "sampled_aapl_dbars"
   ]
  },
  {
   "cell_type": "markdown",
   "metadata": {},
   "source": [
    "# 3.1b\n",
    "\n",
    "Form dollar bars for E-mini S&P 500 futures:\n",
    "\n",
    "Use Snippet 3.4 on a pandas series t1, where numDays=1"
   ]
  },
  {
   "cell_type": "code",
   "execution_count": 97,
   "metadata": {},
   "outputs": [],
   "source": [
    "def getVerticalBarriers(close, tEvents, numDays):\n",
    "    t1 = close.index.searchsorted(tEvents+pd.Timedelta(days=numDays))\n",
    "    t1 = t1[t1 < close.shape[0]]\n",
    "    t1 = pd.Series(close.index[t1], index=tEvents[:t1.shape[0]]) # NaNs at the end\n",
    "    return t1\n",
    "\n",
    "close = aapl_dbars['Close']\n",
    "tEvents = sampled_aapl_dbars\n",
    "numDays = 1\n",
    "\n",
    "t1 = getVerticalBarriers(close, tEvents, numDays)"
   ]
  },
  {
   "cell_type": "code",
   "execution_count": 119,
   "metadata": {},
   "outputs": [
    {
     "data": {
      "text/plain": [
       "DatetimeIndex(['2010-01-06', '2010-01-11', '2010-01-12', '2010-01-14',\n",
       "               '2010-01-15', '2010-01-20', '2010-01-21', '2010-01-22',\n",
       "               '2010-01-28', '2010-01-29',\n",
       "               ...\n",
       "               '2024-11-11', '2024-11-15', '2024-11-21', '2024-11-27',\n",
       "               '2024-12-06', '2024-12-11', '2024-12-18', '2024-12-27',\n",
       "               '2024-12-30', '2024-12-31'],\n",
       "              dtype='datetime64[ns]', length=1670, freq=None)"
      ]
     },
     "execution_count": 119,
     "metadata": {},
     "output_type": "execute_result"
    }
   ],
   "source": [
    "tEvents"
   ]
  },
  {
   "cell_type": "code",
   "execution_count": 98,
   "metadata": {},
   "outputs": [
    {
     "data": {
      "text/plain": [
       "2010-01-06   2010-01-07\n",
       "2010-01-11   2010-01-12\n",
       "2010-01-12   2010-01-13\n",
       "2010-01-14   2010-01-15\n",
       "2010-01-15   2010-01-19\n",
       "                ...    \n",
       "2024-12-06   2024-12-09\n",
       "2024-12-11   2024-12-12\n",
       "2024-12-18   2024-12-19\n",
       "2024-12-27   2024-12-30\n",
       "2024-12-30   2024-12-31\n",
       "Length: 1669, dtype: datetime64[ns]"
      ]
     },
     "execution_count": 98,
     "metadata": {},
     "output_type": "execute_result"
    }
   ],
   "source": [
    "t1"
   ]
  },
  {
   "cell_type": "markdown",
   "metadata": {},
   "source": [
    "# 3.1c\n",
    "\n",
    "Form dollar bars for E-mini S&P 500 futures:\n",
    "\n",
    "On those sampled features, apply the triple-barrier method, where ptS1 = [1,1] and t1 is the series you created in point 1.b"
   ]
  },
  {
   "cell_type": "code",
   "execution_count": 99,
   "metadata": {},
   "outputs": [],
   "source": [
    "def getEvents(close, tEvents, ptSl, trgt, minRet, numThreads=1, t1=False, side=None):\n",
    "    # 1) get target\n",
    "    trgt = trgt.loc[tEvents]\n",
    "    trgt = trgt[trgt > minRet]\n",
    "    # 2) get t1 (max holding period)\n",
    "    if t1 is False:\n",
    "        t1 = pd.Series(pd.NaT, index=tEvents)\n",
    "    # 3) form events object, apply stop loss on t1\n",
    "    if side is None:\n",
    "        side_, ptSl_ = pd.Series(1.0, index=trgt.index), [ptSl[0], ptSl[0]]\n",
    "    else:\n",
    "        side_, ptSl_ = side.loc[trgt.index], ptSl[:2]\n",
    "    events = pd.concat({'t1': t1, 'trgt': trgt, 'side': side_}, axis=1).dropna(subset=['trgt']) # type: ignore\n",
    "    df0 = mpPandasObj(func=applyPtSlOnT1, pdObj=('molecule', events.index), numThreads=numThreads, close=close, events=events, ptSl=ptSl_)\n",
    "    events['t1'] = df0.dropna(how='all').min(axis=1) # type: ignore # pd.min ignores NaN\n",
    "    if side is None:\n",
    "        events = events.drop('side', axis=1)\n",
    "\n",
    "    # store for later\n",
    "    events['pt'] = ptSl[0]\n",
    "    events['sl'] = ptSl[1]\n",
    "\n",
    "    return events\n",
    "    \n",
    "def applyPtSlOnT1(close, events, ptSl, molecule):\n",
    "    # apply stop loss/profit taking, if it takes place before t1 (end of event)\n",
    "    events_ = events.loc[molecule]\n",
    "    out = events_[['t1']].copy(deep=True)\n",
    "\n",
    "    if ptSl[0] > 0:\n",
    "        pt = ptSl[0] * events_['trgt']\n",
    "    else:\n",
    "        pt = pd.Series(index=events.index) # NaNs\n",
    "\n",
    "    if ptSl[1] > 0:\n",
    "        sl = - ptSl[1] * events_['trgt']\n",
    "    else:\n",
    "        sl = pd.Series(index=events.index) # 'mo NaNs\n",
    "\n",
    "    for loc, t1 in events_['t1'].fillna(close.index[-1]).items():\n",
    "        df0 = close[loc:t1] # path prices\n",
    "        df0 = (df0 / close[loc] - 1) * events_.at[loc, 'side'] # path returns\n",
    "        out.loc[loc, 'sl'] = df0[df0<sl[loc]].index.min() # earliest stop loss\n",
    "        out.loc[loc, 'pt'] = df0[df0>pt[loc]].index.min() # earliest profit take\n",
    "    return out"
   ]
  },
  {
   "cell_type": "code",
   "execution_count": 100,
   "metadata": {},
   "outputs": [],
   "source": [
    "events = getEvents(aapl_dbars['Close'], tEvents=tEvents, ptSl=[1,1], t1=t1, numThreads=1, trgt=daily_vol, minRet=0.01)"
   ]
  },
  {
   "cell_type": "code",
   "execution_count": 101,
   "metadata": {},
   "outputs": [
    {
     "data": {
      "text/html": [
       "<div>\n",
       "<style scoped>\n",
       "    .dataframe tbody tr th:only-of-type {\n",
       "        vertical-align: middle;\n",
       "    }\n",
       "\n",
       "    .dataframe tbody tr th {\n",
       "        vertical-align: top;\n",
       "    }\n",
       "\n",
       "    .dataframe thead th {\n",
       "        text-align: right;\n",
       "    }\n",
       "</style>\n",
       "<table border=\"1\" class=\"dataframe\">\n",
       "  <thead>\n",
       "    <tr style=\"text-align: right;\">\n",
       "      <th></th>\n",
       "      <th>t1</th>\n",
       "      <th>trgt</th>\n",
       "      <th>pt</th>\n",
       "      <th>sl</th>\n",
       "    </tr>\n",
       "  </thead>\n",
       "  <tbody>\n",
       "    <tr>\n",
       "      <th>2010-01-14</th>\n",
       "      <td>2010-01-15</td>\n",
       "      <td>0.011626</td>\n",
       "      <td>1</td>\n",
       "      <td>1</td>\n",
       "    </tr>\n",
       "    <tr>\n",
       "      <th>2010-01-15</th>\n",
       "      <td>2010-01-19</td>\n",
       "      <td>0.012222</td>\n",
       "      <td>1</td>\n",
       "      <td>1</td>\n",
       "    </tr>\n",
       "    <tr>\n",
       "      <th>2010-01-20</th>\n",
       "      <td>2010-01-21</td>\n",
       "      <td>0.022422</td>\n",
       "      <td>1</td>\n",
       "      <td>1</td>\n",
       "    </tr>\n",
       "    <tr>\n",
       "      <th>2010-01-21</th>\n",
       "      <td>2010-01-22</td>\n",
       "      <td>0.023669</td>\n",
       "      <td>1</td>\n",
       "      <td>1</td>\n",
       "    </tr>\n",
       "    <tr>\n",
       "      <th>2010-01-22</th>\n",
       "      <td>2010-01-25</td>\n",
       "      <td>0.029649</td>\n",
       "      <td>1</td>\n",
       "      <td>1</td>\n",
       "    </tr>\n",
       "  </tbody>\n",
       "</table>\n",
       "</div>"
      ],
      "text/plain": [
       "                   t1      trgt  pt  sl\n",
       "2010-01-14 2010-01-15  0.011626   1   1\n",
       "2010-01-15 2010-01-19  0.012222   1   1\n",
       "2010-01-20 2010-01-21  0.022422   1   1\n",
       "2010-01-21 2010-01-22  0.023669   1   1\n",
       "2010-01-22 2010-01-25  0.029649   1   1"
      ]
     },
     "execution_count": 101,
     "metadata": {},
     "output_type": "execute_result"
    }
   ],
   "source": [
    "events.head()"
   ]
  },
  {
   "cell_type": "markdown",
   "metadata": {},
   "source": [
    "# 3.1d\n",
    "\n",
    "Form dollar bars for E-mini S&P 500 futures:\n",
    "\n",
    "Apply `getBins` to generate the labels.\n"
   ]
  },
  {
   "cell_type": "code",
   "execution_count": 102,
   "metadata": {},
   "outputs": [],
   "source": [
    "def getBins(events, close):\n",
    "    # 1) prices aligned with events\n",
    "    events_ = events.dropna(subset=['t1'])\n",
    "    px = events_.index.union(events_['t1'].values).drop_duplicates()\n",
    "    px = close.reindex(px, method='bfill')\n",
    "    # 2) create out object\n",
    "    out = pd.DataFrame(index=events_.index)\n",
    "    out['ret'] = px.loc[events_['t1'].values].values / px.loc[events_.index] - 1\n",
    "    out['bin'] = np.sign(out['ret'])\n",
    "    return out"
   ]
  },
  {
   "cell_type": "code",
   "execution_count": 103,
   "metadata": {},
   "outputs": [],
   "source": [
    "bins = getBins(events, close)"
   ]
  },
  {
   "cell_type": "code",
   "execution_count": 104,
   "metadata": {},
   "outputs": [
    {
     "data": {
      "text/html": [
       "<div>\n",
       "<style scoped>\n",
       "    .dataframe tbody tr th:only-of-type {\n",
       "        vertical-align: middle;\n",
       "    }\n",
       "\n",
       "    .dataframe tbody tr th {\n",
       "        vertical-align: top;\n",
       "    }\n",
       "\n",
       "    .dataframe thead th {\n",
       "        text-align: right;\n",
       "    }\n",
       "</style>\n",
       "<table border=\"1\" class=\"dataframe\">\n",
       "  <thead>\n",
       "    <tr style=\"text-align: right;\">\n",
       "      <th></th>\n",
       "      <th>ret</th>\n",
       "      <th>bin</th>\n",
       "    </tr>\n",
       "  </thead>\n",
       "  <tbody>\n",
       "    <tr>\n",
       "      <th>2010-01-14</th>\n",
       "      <td>-0.016712</td>\n",
       "      <td>-1.0</td>\n",
       "    </tr>\n",
       "    <tr>\n",
       "      <th>2010-01-15</th>\n",
       "      <td>0.044238</td>\n",
       "      <td>1.0</td>\n",
       "    </tr>\n",
       "    <tr>\n",
       "      <th>2010-01-20</th>\n",
       "      <td>-0.017286</td>\n",
       "      <td>-1.0</td>\n",
       "    </tr>\n",
       "    <tr>\n",
       "      <th>2010-01-21</th>\n",
       "      <td>-0.049599</td>\n",
       "      <td>-1.0</td>\n",
       "    </tr>\n",
       "    <tr>\n",
       "      <th>2010-01-22</th>\n",
       "      <td>0.026903</td>\n",
       "      <td>1.0</td>\n",
       "    </tr>\n",
       "  </tbody>\n",
       "</table>\n",
       "</div>"
      ],
      "text/plain": [
       "                 ret  bin\n",
       "2010-01-14 -0.016712 -1.0\n",
       "2010-01-15  0.044238  1.0\n",
       "2010-01-20 -0.017286 -1.0\n",
       "2010-01-21 -0.049599 -1.0\n",
       "2010-01-22  0.026903  1.0"
      ]
     },
     "execution_count": 104,
     "metadata": {},
     "output_type": "execute_result"
    }
   ],
   "source": [
    "bins.head()"
   ]
  },
  {
   "cell_type": "code",
   "execution_count": 105,
   "metadata": {},
   "outputs": [
    {
     "data": {
      "text/plain": [
       "bin\n",
       " 1.0    880\n",
       "-1.0    782\n",
       " 0.0      4\n",
       "Name: count, dtype: int64"
      ]
     },
     "execution_count": 105,
     "metadata": {},
     "output_type": "execute_result"
    }
   ],
   "source": [
    "bins['bin'].value_counts()"
   ]
  },
  {
   "cell_type": "code",
   "execution_count": 106,
   "metadata": {},
   "outputs": [
    {
     "data": {
      "text/plain": [
       "bin\n",
       " 1.0    0.528211\n",
       "-1.0    0.469388\n",
       " 0.0    0.002401\n",
       "Name: proportion, dtype: float64"
      ]
     },
     "execution_count": 106,
     "metadata": {},
     "output_type": "execute_result"
    }
   ],
   "source": [
    "bins['bin'].value_counts(normalize=True)"
   ]
  },
  {
   "cell_type": "markdown",
   "metadata": {},
   "source": [
    "# 3.2\n",
    "\n",
    "From exercise 1, use Snippet 3.8 to drop rare labels."
   ]
  },
  {
   "cell_type": "code",
   "execution_count": 107,
   "metadata": {},
   "outputs": [],
   "source": [
    "def dropLabels(events, mitPct=0.05):\n",
    "    # apply weights, drop labels with insufficient examples\n",
    "    while True:\n",
    "        \n",
    "        df0 = events['bin'].value_counts(normalize=True)\n",
    "        \n",
    "        if df0.min() > mitPct or df0.shape[0] < 3:\n",
    "            break\n",
    "        print(\"Dropped label\", df0.argmin(), df0.min())\n",
    "        events = events[events['bin'] != df0.index[df0.argmin()]]\n",
    "    return events\n"
   ]
  },
  {
   "cell_type": "code",
   "execution_count": 108,
   "metadata": {},
   "outputs": [
    {
     "name": "stdout",
     "output_type": "stream",
     "text": [
      "Dropped label 2 0.0024009603841536613\n"
     ]
    }
   ],
   "source": [
    "bins = dropLabels(bins)"
   ]
  },
  {
   "cell_type": "code",
   "execution_count": 109,
   "metadata": {},
   "outputs": [
    {
     "data": {
      "text/plain": [
       "bin\n",
       " 1.0    0.529483\n",
       "-1.0    0.470517\n",
       "Name: proportion, dtype: float64"
      ]
     },
     "execution_count": 109,
     "metadata": {},
     "output_type": "execute_result"
    }
   ],
   "source": [
    "bins['bin'].value_counts(normalize=True)"
   ]
  },
  {
   "cell_type": "markdown",
   "metadata": {},
   "source": [
    "# 3.3\n",
    "\n",
    "Adjust the `getBins` function (Snippet 3.5) to return a 0 whenever the vertical barrier is the first one touched."
   ]
  },
  {
   "cell_type": "code",
   "execution_count": 110,
   "metadata": {},
   "outputs": [],
   "source": [
    "def barrier_touched(out_df, events):\n",
    "    # We'll graciously use the barrier_touched method from\n",
    "    # https://github.com/hudson-and-thames/mlfinlab/blob/master/mlfinlab/labeling/labeling.py#L164\n",
    "    store = []\n",
    "    for date_time, values in out_df.iterrows():\n",
    "        ret = values['ret']\n",
    "        target = values['trgt']\n",
    "\n",
    "        pt_level_reached = ret > target * events.loc[date_time, 'pt']\n",
    "        sl_level_reached = ret < -target * events.loc[date_time, 'sl']\n",
    "\n",
    "        if ret > 0.0 and pt_level_reached:\n",
    "            # Top barrier reached\n",
    "            store.append(1)\n",
    "        elif ret < 0.0 and sl_level_reached:\n",
    "            # Bottom barrier reached\n",
    "            store.append(-1)\n",
    "        else:\n",
    "            # Vertical barrier reached\n",
    "            store.append(0)\n",
    "\n",
    "    # Save to 'bin' column and return\n",
    "    out_df['bin'] = store\n",
    "    return out_df\n",
    "\n",
    "\n",
    "def getBins(events, close):\n",
    "    '''\n",
    "    Compute event's outcome (including side information, if provided).\n",
    "    events is a DataFrame where:\n",
    "    -events.index is event's starttime\n",
    "    -events['t1'] is event's endtime\n",
    "    -events['trgt'] is event's target\n",
    "    -events['side'] (optional) implies the algo's position side\n",
    "    Case 1: ('side' not in events): bin in (-1, 1) <- label by price action\n",
    "    Case 2: ('side' in events): bin in (0, 1) <- label by pnl (meta-labeling)\n",
    "    '''\n",
    "    # 1) prices aligned with events\n",
    "    events_ = events.dropna(subset=['t1'])\n",
    "    px = events_.index.union(events_['t1'].values).drop_duplicates()\n",
    "    px = close.reindex(px, method='bfill')\n",
    "    # 2) create out object\n",
    "    out = pd.DataFrame(index=events_.index)\n",
    "\n",
    "    out['ret'] = px.loc[events_['t1'].values].values / px.loc[events_.index] - 1\n",
    "    if 'side' in events_:\n",
    "        out['ret'] *= events_['side']  # meta-labeling\n",
    "\n",
    "    out['trgt'] = events_['trgt']\n",
    "    out = barrier_touched(out, events)\n",
    "\n",
    "    if 'side' in events_:\n",
    "        out.loc[out['ret'] <= 0, 'bin'] = 0\n",
    "        \n",
    "    if 'side' in events_:\n",
    "        out['side'] = events['side']\n",
    "    return out\n"
   ]
  },
  {
   "cell_type": "code",
   "execution_count": 111,
   "metadata": {},
   "outputs": [],
   "source": [
    "bins = getBins(events, close)"
   ]
  },
  {
   "cell_type": "code",
   "execution_count": 112,
   "metadata": {},
   "outputs": [
    {
     "data": {
      "text/html": [
       "<div>\n",
       "<style scoped>\n",
       "    .dataframe tbody tr th:only-of-type {\n",
       "        vertical-align: middle;\n",
       "    }\n",
       "\n",
       "    .dataframe tbody tr th {\n",
       "        vertical-align: top;\n",
       "    }\n",
       "\n",
       "    .dataframe thead th {\n",
       "        text-align: right;\n",
       "    }\n",
       "</style>\n",
       "<table border=\"1\" class=\"dataframe\">\n",
       "  <thead>\n",
       "    <tr style=\"text-align: right;\">\n",
       "      <th></th>\n",
       "      <th>ret</th>\n",
       "      <th>trgt</th>\n",
       "      <th>bin</th>\n",
       "    </tr>\n",
       "  </thead>\n",
       "  <tbody>\n",
       "    <tr>\n",
       "      <th>2010-01-14</th>\n",
       "      <td>-0.016712</td>\n",
       "      <td>0.011626</td>\n",
       "      <td>-1</td>\n",
       "    </tr>\n",
       "    <tr>\n",
       "      <th>2010-01-15</th>\n",
       "      <td>0.044238</td>\n",
       "      <td>0.012222</td>\n",
       "      <td>1</td>\n",
       "    </tr>\n",
       "    <tr>\n",
       "      <th>2010-01-20</th>\n",
       "      <td>-0.017286</td>\n",
       "      <td>0.022422</td>\n",
       "      <td>0</td>\n",
       "    </tr>\n",
       "    <tr>\n",
       "      <th>2010-01-21</th>\n",
       "      <td>-0.049599</td>\n",
       "      <td>0.023669</td>\n",
       "      <td>-1</td>\n",
       "    </tr>\n",
       "    <tr>\n",
       "      <th>2010-01-22</th>\n",
       "      <td>0.026903</td>\n",
       "      <td>0.029649</td>\n",
       "      <td>0</td>\n",
       "    </tr>\n",
       "    <tr>\n",
       "      <th>...</th>\n",
       "      <td>...</td>\n",
       "      <td>...</td>\n",
       "      <td>...</td>\n",
       "    </tr>\n",
       "    <tr>\n",
       "      <th>2024-12-06</th>\n",
       "      <td>0.016101</td>\n",
       "      <td>0.017416</td>\n",
       "      <td>0</td>\n",
       "    </tr>\n",
       "    <tr>\n",
       "      <th>2024-12-11</th>\n",
       "      <td>0.005964</td>\n",
       "      <td>0.017163</td>\n",
       "      <td>0</td>\n",
       "    </tr>\n",
       "    <tr>\n",
       "      <th>2024-12-18</th>\n",
       "      <td>0.007015</td>\n",
       "      <td>0.016708</td>\n",
       "      <td>0</td>\n",
       "    </tr>\n",
       "    <tr>\n",
       "      <th>2024-12-27</th>\n",
       "      <td>-0.013263</td>\n",
       "      <td>0.016398</td>\n",
       "      <td>0</td>\n",
       "    </tr>\n",
       "    <tr>\n",
       "      <th>2024-12-30</th>\n",
       "      <td>-0.007058</td>\n",
       "      <td>0.016413</td>\n",
       "      <td>0</td>\n",
       "    </tr>\n",
       "  </tbody>\n",
       "</table>\n",
       "<p>1666 rows × 3 columns</p>\n",
       "</div>"
      ],
      "text/plain": [
       "                 ret      trgt  bin\n",
       "2010-01-14 -0.016712  0.011626   -1\n",
       "2010-01-15  0.044238  0.012222    1\n",
       "2010-01-20 -0.017286  0.022422    0\n",
       "2010-01-21 -0.049599  0.023669   -1\n",
       "2010-01-22  0.026903  0.029649    0\n",
       "...              ...       ...  ...\n",
       "2024-12-06  0.016101  0.017416    0\n",
       "2024-12-11  0.005964  0.017163    0\n",
       "2024-12-18  0.007015  0.016708    0\n",
       "2024-12-27 -0.013263  0.016398    0\n",
       "2024-12-30 -0.007058  0.016413    0\n",
       "\n",
       "[1666 rows x 3 columns]"
      ]
     },
     "execution_count": 112,
     "metadata": {},
     "output_type": "execute_result"
    }
   ],
   "source": [
    "bins"
   ]
  },
  {
   "cell_type": "code",
   "execution_count": 113,
   "metadata": {},
   "outputs": [
    {
     "data": {
      "text/plain": [
       "bin\n",
       " 0    1362\n",
       "-1     162\n",
       " 1     142\n",
       "Name: count, dtype: int64"
      ]
     },
     "execution_count": 113,
     "metadata": {},
     "output_type": "execute_result"
    }
   ],
   "source": [
    "bins['bin'].value_counts()"
   ]
  },
  {
   "cell_type": "markdown",
   "metadata": {},
   "source": [
    "# 3.4a\n",
    "\n",
    "Develop a trend-following strategy based on a popular technical analysis statistic (e.g. MA Crossover). For each observation, the model suggests a side, but not a size of the bet.\n",
    "\n",
    "Derive meta-labels for `ptSl = [1,2]` and `t1` where `numDays=1`. Use as `trgt` the daily standard deviation as computed by Snippet 3.1."
   ]
  },
  {
   "cell_type": "code",
   "execution_count": 109,
   "metadata": {},
   "outputs": [],
   "source": [
    "df = aapl_dbars.copy().truncate(before='2017')\n",
    "tEvents = cusum(df['Close'], getDailyVol(df['Close']).mean())\n",
    "t1 = getVerticalBarriers(df['Close'], tEvents, numDays=1)\n",
    "events = getEvents(close, tEvents=tEvents, ptSl=[1,2], t1=t1, trgt=daily_vol, minRet=0.01)\n"
   ]
  },
  {
   "cell_type": "code",
   "execution_count": 110,
   "metadata": {},
   "outputs": [],
   "source": [
    "slow_ma = close.rolling(100).mean()\n",
    "fast_ma = close.rolling(10).mean()\n",
    "\n",
    "long_signals = (fast_ma >= slow_ma)\n",
    "short_signals = (fast_ma < slow_ma)\n",
    "close = df['Close']\n",
    "\n",
    "events.loc[long_signals, 'side'] = 1\n",
    "events.loc[short_signals, 'side'] = -1\n",
    "events['side'] = events['side'].shift()\n"
   ]
  },
  {
   "cell_type": "code",
   "execution_count": 111,
   "metadata": {},
   "outputs": [],
   "source": [
    "bins = getBins(events, df['Close'])"
   ]
  },
  {
   "cell_type": "code",
   "execution_count": 112,
   "metadata": {},
   "outputs": [
    {
     "data": {
      "text/html": [
       "<div>\n",
       "<style scoped>\n",
       "    .dataframe tbody tr th:only-of-type {\n",
       "        vertical-align: middle;\n",
       "    }\n",
       "\n",
       "    .dataframe tbody tr th {\n",
       "        vertical-align: top;\n",
       "    }\n",
       "\n",
       "    .dataframe thead th {\n",
       "        text-align: right;\n",
       "    }\n",
       "</style>\n",
       "<table border=\"1\" class=\"dataframe\">\n",
       "  <thead>\n",
       "    <tr style=\"text-align: right;\">\n",
       "      <th></th>\n",
       "      <th>t1</th>\n",
       "      <th>trgt</th>\n",
       "      <th>pt</th>\n",
       "      <th>sl</th>\n",
       "      <th>side</th>\n",
       "    </tr>\n",
       "  </thead>\n",
       "  <tbody>\n",
       "    <tr>\n",
       "      <th>2018-02-05 10:28:00</th>\n",
       "      <td>2018-02-05 13:02:00</td>\n",
       "      <td>0.010232</td>\n",
       "      <td>1</td>\n",
       "      <td>2</td>\n",
       "      <td>NaN</td>\n",
       "    </tr>\n",
       "    <tr>\n",
       "      <th>2018-02-05 10:34:00</th>\n",
       "      <td>2018-02-05 13:09:00</td>\n",
       "      <td>0.010271</td>\n",
       "      <td>1</td>\n",
       "      <td>2</td>\n",
       "      <td>-1.0</td>\n",
       "    </tr>\n",
       "    <tr>\n",
       "      <th>2018-02-05 10:54:00</th>\n",
       "      <td>2018-02-05 13:02:00</td>\n",
       "      <td>0.010475</td>\n",
       "      <td>1</td>\n",
       "      <td>2</td>\n",
       "      <td>-1.0</td>\n",
       "    </tr>\n",
       "    <tr>\n",
       "      <th>2018-02-05 11:01:00</th>\n",
       "      <td>2018-02-05 13:05:00</td>\n",
       "      <td>0.010512</td>\n",
       "      <td>1</td>\n",
       "      <td>2</td>\n",
       "      <td>-1.0</td>\n",
       "    </tr>\n",
       "    <tr>\n",
       "      <th>2018-02-05 11:10:00</th>\n",
       "      <td>2018-02-05 13:14:00</td>\n",
       "      <td>0.010515</td>\n",
       "      <td>1</td>\n",
       "      <td>2</td>\n",
       "      <td>-1.0</td>\n",
       "    </tr>\n",
       "  </tbody>\n",
       "</table>\n",
       "</div>"
      ],
      "text/plain": [
       "                                     t1      trgt  pt  sl  side\n",
       "2018-02-05 10:28:00 2018-02-05 13:02:00  0.010232   1   2   NaN\n",
       "2018-02-05 10:34:00 2018-02-05 13:09:00  0.010271   1   2  -1.0\n",
       "2018-02-05 10:54:00 2018-02-05 13:02:00  0.010475   1   2  -1.0\n",
       "2018-02-05 11:01:00 2018-02-05 13:05:00  0.010512   1   2  -1.0\n",
       "2018-02-05 11:10:00 2018-02-05 13:14:00  0.010515   1   2  -1.0"
      ]
     },
     "execution_count": 112,
     "metadata": {},
     "output_type": "execute_result"
    }
   ],
   "source": [
    "events.head()"
   ]
  },
  {
   "cell_type": "code",
   "execution_count": 113,
   "metadata": {},
   "outputs": [
    {
     "data": {
      "text/plain": [
       "0    1302\n",
       "1     445\n",
       "Name: bin, dtype: int64"
      ]
     },
     "execution_count": 113,
     "metadata": {},
     "output_type": "execute_result"
    }
   ],
   "source": [
    "bins['bin'].value_counts()"
   ]
  },
  {
   "cell_type": "markdown",
   "metadata": {},
   "source": [
    "# 3.4b\n",
    "\n",
    "Develop a trend-following strategy based on a popular technical analysis statistic (e.g. MA Crossover). For each observation, the model suggests a side, but not a size of the bet.\n",
    "\n",
    "Train a random forest to decide whether to trade or not. Note: The decision is whether to trade or not, {0,1}, since the underlying model (the crossing moving average) has decided the side, {-1, 1}."
   ]
  },
  {
   "cell_type": "code",
   "execution_count": 114,
   "metadata": {
    "collapsed": true
   },
   "outputs": [
    {
     "name": "stderr",
     "output_type": "stream",
     "text": [
      "/Users/doda/anaconda3/envs/zippy/lib/python3.5/site-packages/ipykernel_launcher.py:9: FutureWarning: Currently, 'apply' passes the values as ndarrays to the applied function. In the future, this will change to passing it as Series objects. You need to specify 'raw=True' to keep the current behaviour, and you can pass 'raw=False' to silence this warning\n",
      "  if __name__ == '__main__':\n",
      "/Users/doda/anaconda3/envs/zippy/lib/python3.5/site-packages/ipykernel_launcher.py:10: FutureWarning: Currently, 'apply' passes the values as ndarrays to the applied function. In the future, this will change to passing it as Series objects. You need to specify 'raw=True' to keep the current behaviour, and you can pass 'raw=False' to silence this warning\n",
      "  # Remove the CWD from sys.path while we load stuff.\n",
      "/Users/doda/anaconda3/envs/zippy/lib/python3.5/site-packages/ipykernel_launcher.py:11: FutureWarning: Currently, 'apply' passes the values as ndarrays to the applied function. In the future, this will change to passing it as Series objects. You need to specify 'raw=True' to keep the current behaviour, and you can pass 'raw=False' to silence this warning\n",
      "  # This is added back by InteractiveShellApp.init_path()\n"
     ]
    }
   ],
   "source": [
    "from sklearn.ensemble import RandomForestClassifier\n",
    "rf = RandomForestClassifier(n_estimators=1000, random_state=42)\n",
    "\n",
    "# We'll use the features described in 3.5b (vol, serial corr., ma crosses)\n",
    "df['log_ret'] = np.log(close).diff()\n",
    "df['vol5'] = df['log_ret'].rolling(5).std()\n",
    "df['vol10'] = df['log_ret'].rolling(10).std()\n",
    "df['vol15'] = df['log_ret'].rolling(15).std()\n",
    "\n",
    "df['serialcorr20-1'] = df['log_ret'].rolling(20).apply(lambda x: pd.Series(x).autocorr(lag=1))\n",
    "df['serialcorr20-2'] = df['log_ret'].rolling(20).apply(lambda x: pd.Series(x).autocorr(lag=2))\n",
    "df['serialcorr20-3'] = df['log_ret'].rolling(20).apply(lambda x: pd.Series(x).autocorr(lag=3))\n",
    "\n",
    "df.loc[long_signals, 'side'] = 1\n",
    "df.loc[short_signals, 'side'] = -1\n",
    "df['side'] = df['side'].shift()\n"
   ]
  },
  {
   "cell_type": "code",
   "execution_count": 115,
   "metadata": {},
   "outputs": [],
   "source": [
    "train_features = df.loc[events.index][['side', 'vol5', 'vol10', 'vol15', 'serialcorr20-1', 'serialcorr20-2', 'serialcorr20-3']]\n",
    "train_labels = bins['bin']"
   ]
  },
  {
   "cell_type": "code",
   "execution_count": 116,
   "metadata": {},
   "outputs": [
    {
     "data": {
      "text/plain": [
       "RandomForestClassifier(bootstrap=True, class_weight=None, criterion='gini',\n",
       "            max_depth=None, max_features='auto', max_leaf_nodes=None,\n",
       "            min_impurity_decrease=0.0, min_impurity_split=None,\n",
       "            min_samples_leaf=1, min_samples_split=2,\n",
       "            min_weight_fraction_leaf=0.0, n_estimators=1000, n_jobs=None,\n",
       "            oob_score=False, random_state=42, verbose=0, warm_start=False)"
      ]
     },
     "execution_count": 116,
     "metadata": {},
     "output_type": "execute_result"
    }
   ],
   "source": [
    "rf.fit(train_features, train_labels)"
   ]
  },
  {
   "cell_type": "markdown",
   "metadata": {},
   "source": [
    "# 3.5a\n",
    "\n",
    "Develop a mean-reverting strategy based on Bollinger Bands. For each observation, the model suggests a side, but not a size of the bet.\n",
    "\n",
    "Derive meta-labels for `ptSl = [0,2]` and `t1` where `numDays=1`. Use as `trgt` the daily standard deviation."
   ]
  },
  {
   "cell_type": "code",
   "execution_count": 117,
   "metadata": {},
   "outputs": [
    {
     "data": {
      "text/html": [
       "<div>\n",
       "<style scoped>\n",
       "    .dataframe tbody tr th:only-of-type {\n",
       "        vertical-align: middle;\n",
       "    }\n",
       "\n",
       "    .dataframe tbody tr th {\n",
       "        vertical-align: top;\n",
       "    }\n",
       "\n",
       "    .dataframe thead th {\n",
       "        text-align: right;\n",
       "    }\n",
       "</style>\n",
       "<table border=\"1\" class=\"dataframe\">\n",
       "  <thead>\n",
       "    <tr style=\"text-align: right;\">\n",
       "      <th></th>\n",
       "      <th>t1</th>\n",
       "      <th>trgt</th>\n",
       "      <th>pt</th>\n",
       "      <th>sl</th>\n",
       "    </tr>\n",
       "  </thead>\n",
       "  <tbody>\n",
       "    <tr>\n",
       "      <th>2018-02-05 10:28:00</th>\n",
       "      <td>2018-02-06 10:30:00</td>\n",
       "      <td>0.010232</td>\n",
       "      <td>0</td>\n",
       "      <td>2</td>\n",
       "    </tr>\n",
       "    <tr>\n",
       "      <th>2018-02-05 10:34:00</th>\n",
       "      <td>2018-02-06 10:36:00</td>\n",
       "      <td>0.010271</td>\n",
       "      <td>0</td>\n",
       "      <td>2</td>\n",
       "    </tr>\n",
       "    <tr>\n",
       "      <th>2018-02-05 10:54:00</th>\n",
       "      <td>2018-02-06 10:55:00</td>\n",
       "      <td>0.010475</td>\n",
       "      <td>0</td>\n",
       "      <td>2</td>\n",
       "    </tr>\n",
       "    <tr>\n",
       "      <th>2018-02-05 11:01:00</th>\n",
       "      <td>2018-02-06 11:05:00</td>\n",
       "      <td>0.010512</td>\n",
       "      <td>0</td>\n",
       "      <td>2</td>\n",
       "    </tr>\n",
       "    <tr>\n",
       "      <th>2018-02-05 11:10:00</th>\n",
       "      <td>2018-02-06 11:11:00</td>\n",
       "      <td>0.010515</td>\n",
       "      <td>0</td>\n",
       "      <td>2</td>\n",
       "    </tr>\n",
       "  </tbody>\n",
       "</table>\n",
       "</div>"
      ],
      "text/plain": [
       "                                     t1      trgt  pt  sl\n",
       "2018-02-05 10:28:00 2018-02-06 10:30:00  0.010232   0   2\n",
       "2018-02-05 10:34:00 2018-02-06 10:36:00  0.010271   0   2\n",
       "2018-02-05 10:54:00 2018-02-06 10:55:00  0.010475   0   2\n",
       "2018-02-05 11:01:00 2018-02-06 11:05:00  0.010512   0   2\n",
       "2018-02-05 11:10:00 2018-02-06 11:11:00  0.010515   0   2"
      ]
     },
     "execution_count": 117,
     "metadata": {},
     "output_type": "execute_result"
    }
   ],
   "source": [
    "events = getEvents(close, tEvents=tEvents, ptSl=[0,2], t1=t1, trgt=daily_vol, minRet=0.01)\n",
    "events.head()"
   ]
  },
  {
   "cell_type": "markdown",
   "metadata": {},
   "source": [
    "# 3.5b\n",
    "\n",
    "Develop a mean-reverting strategy based on Bollinger Bands. For each observation, the model suggests a side, but not a size of the bet.\n",
    "\n",
    "Train a random forest to decide whether to trade or not. Use as features: volatility, serial correlation, and the crossing moving averages from exercise 2.\n"
   ]
  },
  {
   "cell_type": "code",
   "execution_count": 118,
   "metadata": {},
   "outputs": [],
   "source": [
    "def bbands(close, window, stdev=2):\n",
    "    ma = close.rolling(window).mean()\n",
    "    std = close.rolling(window).std()\n",
    "    return (ma + stdev * std, ma - stdev * std)\n",
    "    \n",
    "df['bb_upper_band'], df['bb_lower_band'] = bbands(close, 100, 2)\n",
    "short_signals = close > df['bb_upper_band']\n",
    "long_signals = close < df['bb_lower_band']\n",
    "\n",
    "df['side'] = np.nan\n",
    "df.loc[long_signals, 'side'] = 1\n",
    "df.loc[short_signals, 'side'] = -1\n",
    "df['side'] = df['side'].ffill() # long until we're short\n",
    "df = df.shift() # No look-ahead"
   ]
  },
  {
   "cell_type": "code",
   "execution_count": 119,
   "metadata": {},
   "outputs": [
    {
     "data": {
      "text/plain": [
       "-1.0    14021\n",
       " 1.0    11564\n",
       "Name: side, dtype: int64"
      ]
     },
     "execution_count": 119,
     "metadata": {},
     "output_type": "execute_result"
    }
   ],
   "source": [
    "df.side.value_counts()"
   ]
  },
  {
   "cell_type": "code",
   "execution_count": 131,
   "metadata": {},
   "outputs": [
    {
     "data": {
      "text/plain": [
       "RandomForestClassifier(bootstrap=True, class_weight=None, criterion='gini',\n",
       "            max_depth=5, max_features='auto', max_leaf_nodes=None,\n",
       "            min_impurity_decrease=0.0, min_impurity_split=None,\n",
       "            min_samples_leaf=1, min_samples_split=2,\n",
       "            min_weight_fraction_leaf=0.0, n_estimators=100, n_jobs=None,\n",
       "            oob_score=False, random_state=10, verbose=0, warm_start=False)"
      ]
     },
     "execution_count": 131,
     "metadata": {},
     "output_type": "execute_result"
    }
   ],
   "source": [
    "train_features = df.loc[events.index][['side', 'vol5', 'vol10', 'vol15', 'serialcorr20-1', 'serialcorr20-2', 'serialcorr20-3']]\n",
    "train_labels = bins['bin']\n",
    "\n",
    "rf = RandomForestClassifier(n_estimators=100, random_state=10, max_depth=5)\n",
    "rf.fit(train_features, train_labels)"
   ]
  },
  {
   "cell_type": "markdown",
   "metadata": {},
   "source": [
    "# 3.5c\n",
    "\n",
    "Develop a mean-reverting strategy based on Bollinger Bands. For each observation, the model suggests a side, but not a size of the bet.\n",
    "\n",
    "What is the accuracy of predictions from the primary model (i.e. if the secondary model does not filter the bets)? What are the precision, recall, and F-1 scores?\n"
   ]
  },
  {
   "cell_type": "code",
   "execution_count": 132,
   "metadata": {},
   "outputs": [
    {
     "name": "stdout",
     "output_type": "stream",
     "text": [
      "              precision    recall  f1-score   support\n",
      "\n",
      "           0       0.00      0.00      0.00      1302\n",
      "           1       0.25      1.00      0.41       445\n",
      "\n",
      "   micro avg       0.25      0.25      0.25      1747\n",
      "   macro avg       0.13      0.50      0.20      1747\n",
      "weighted avg       0.06      0.25      0.10      1747\n",
      "\n",
      "Confusion Matrix\n",
      "[[   0 1302]\n",
      " [   0  445]]\n",
      "\n",
      "Accuracy\n",
      "0.25472238122495705\n"
     ]
    },
    {
     "name": "stderr",
     "output_type": "stream",
     "text": [
      "/Users/doda/anaconda3/envs/zippy/lib/python3.5/site-packages/sklearn/metrics/classification.py:1143: UndefinedMetricWarning: Precision and F-score are ill-defined and being set to 0.0 in labels with no predicted samples.\n",
      "  'precision', 'predicted', average, warn_for)\n"
     ]
    }
   ],
   "source": [
    "from sklearn.metrics import roc_curve\n",
    "from sklearn.metrics import classification_report\n",
    "from sklearn.metrics import confusion_matrix\n",
    "from sklearn.metrics import accuracy_score\n",
    "\n",
    "primary_forecast = pd.DataFrame(bins['bin'])\n",
    "primary_forecast['pred'] = 1\n",
    "primary_forecast.columns = ['actual', 'pred']\n",
    "\n",
    "# Performance Metrics\n",
    "actual = primary_forecast['actual']\n",
    "pred = primary_forecast['pred']\n",
    "print(classification_report(y_true=actual, y_pred=pred))\n",
    "\n",
    "print(\"Confusion Matrix\")\n",
    "print(confusion_matrix(actual, pred))\n",
    "\n",
    "print('')\n",
    "print(\"Accuracy\")\n",
    "print(accuracy_score(actual, pred))"
   ]
  },
  {
   "cell_type": "markdown",
   "metadata": {},
   "source": [
    "# 3.5d\n",
    "\n",
    "Develop a mean-reverting strategy based on Bollinger Bands. For each observation, the model suggests a side, but not a size of the bet.\n",
    "\n",
    "What is the accuracy of prediction from the secondary model? What are the precision, recall, and F1-scores?\n"
   ]
  },
  {
   "cell_type": "code",
   "execution_count": 133,
   "metadata": {},
   "outputs": [
    {
     "name": "stdout",
     "output_type": "stream",
     "text": [
      "              precision    recall  f1-score   support\n",
      "\n",
      "           0       0.80      0.99      0.89      1302\n",
      "           1       0.88      0.29      0.44       445\n",
      "\n",
      "   micro avg       0.81      0.81      0.81      1747\n",
      "   macro avg       0.84      0.64      0.66      1747\n",
      "weighted avg       0.82      0.81      0.77      1747\n",
      "\n",
      "Confusion Matrix\n",
      "[[1284   18]\n",
      " [ 315  130]]\n",
      "\n",
      "Accuracy\n",
      "0.8093875214653692\n"
     ]
    },
    {
     "data": {
      "image/png": "[encoded data removed]",
      "text/plain": [
       "<Figure size 1152x432 with 1 Axes>"
      ]
     },
     "metadata": {},
     "output_type": "display_data"
    }
   ],
   "source": [
    "y_train = bins['bin']\n",
    "X_train = train_features\n",
    "# Performance Metrics\n",
    "y_pred_rf = rf.predict_proba(X_train)[:, 1]\n",
    "y_pred = rf.predict(X_train)\n",
    "fpr_rf, tpr_rf, _ = roc_curve(y_train, y_pred_rf)\n",
    "print(classification_report(y_train, y_pred))\n",
    "\n",
    "print(\"Confusion Matrix\")\n",
    "print(confusion_matrix(y_train, y_pred))\n",
    "\n",
    "print('')\n",
    "print(\"Accuracy\")\n",
    "print(accuracy_score(y_train, y_pred))\n",
    "\n",
    "plt.figure(1)\n",
    "plt.plot([0, 1], [0, 1], 'k--')\n",
    "plt.plot(fpr_rf, tpr_rf, label='RF')\n",
    "plt.xlabel('False positive rate')\n",
    "plt.ylabel('True positive rate')\n",
    "plt.title('ROC curve')\n",
    "plt.legend(loc='best')\n",
    "plt.show()\n"
   ]
  }
 ],
 "metadata": {
  "kernelspec": {
   "display_name": ".venv",
   "language": "python",
   "name": "python3"
  },
  "language_info": {
   "codemirror_mode": {
    "name": "ipython",
    "version": 3
   },
   "file_extension": ".py",
   "mimetype": "text/x-python",
   "name": "python",
   "nbconvert_exporter": "python",
   "pygments_lexer": "ipython3",
   "version": "3.12.4"
  }
 },
 "nbformat": 4,
 "nbformat_minor": 2
}
